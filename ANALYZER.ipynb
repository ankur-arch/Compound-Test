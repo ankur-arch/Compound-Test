{
 "cells": [
  {
   "cell_type": "code",
   "execution_count": 30,
   "metadata": {},
   "outputs": [],
   "source": [
    "import pandas as pd\n",
    "import numpy as np"
   ]
  },
  {
   "cell_type": "code",
   "execution_count": 80,
   "metadata": {},
   "outputs": [],
   "source": [
    "root = './CONFUSION/Matrix/'\n",
    "resnet_50_pth = 'resnet50_confusion_matrix.csv'\n",
    "resnet_101_pth = 'resnet101_confusion_matrix.csv'\n",
    "resnext_50_pth = 'retrained_resnext50_confusion_matrix.csv'\n",
    "vgg_16_pth ='vgg16_confusion_matrix.csv'\n",
    "wide_resnet_pth = 'wide_resnet_confusion_matrix.csv'\n"
   ]
  },
  {
   "cell_type": "code",
   "execution_count": 81,
   "metadata": {},
   "outputs": [],
   "source": [
    "def returnCsvdir(root, path):\n",
    "    return \"{}{}\".format(root,path)    "
   ]
  },
  {
   "cell_type": "code",
   "execution_count": 82,
   "metadata": {},
   "outputs": [],
   "source": [
    "resnet_101_dataframe =  pd.read_csv(returnCsvdir(root, resnet_101_pth))\n",
    "resnet_50_dataframe =  pd.read_csv(returnCsvdir(root, resnet_50_pth))\n",
    "resnext_50_dataframe =  pd.read_csv(returnCsvdir(root, resnext_50_pth))\n",
    "vgg_16_dataframe =  pd.read_csv(returnCsvdir(root, vgg_16_pth))\n",
    "wide_resnet_dataframe = pd.read_csv(returnCsvdir(root, wide_resnet_pth))"
   ]
  },
  {
   "cell_type": "code",
   "execution_count": 83,
   "metadata": {},
   "outputs": [],
   "source": [
    "def missclassificationFinder(result, name):\n",
    "    result.reset_index(drop=True, inplace=True)\n",
    "    result = result.iloc[:,1:].to_numpy()\n",
    "    np.fill_diagonal(result, 0)\n",
    "    maxValues = np.amax(result, axis=1)\n",
    "    maxIndices = np.argmax(result, axis=1)\n",
    "    print(\"{} has {} classes\".format(name,len(maxValues)))\n",
    "    return maxValues,maxIndices"
   ]
  },
  {
   "cell_type": "code",
   "execution_count": 84,
   "metadata": {},
   "outputs": [
    {
     "name": "stdout",
     "output_type": "stream",
     "text": [
      "Resnet 101 has 171 classes\n"
     ]
    }
   ],
   "source": [
    "r101_v, r101_i =  missclassificationFinder(resnet_101_dataframe, name=\"Resnet 101\")"
   ]
  },
  {
   "cell_type": "code",
   "execution_count": 85,
   "metadata": {},
   "outputs": [
    {
     "name": "stdout",
     "output_type": "stream",
     "text": [
      "Resnet 50 has 171 classes\n"
     ]
    }
   ],
   "source": [
    "r50_v, r50_i =  missclassificationFinder(resnet_50_dataframe, name=\"Resnet 50\")"
   ]
  },
  {
   "cell_type": "code",
   "execution_count": 86,
   "metadata": {},
   "outputs": [
    {
     "name": "stdout",
     "output_type": "stream",
     "text": [
      "Resnext 50 has 171 classes\n"
     ]
    }
   ],
   "source": [
    "rx_50_v, rx_50_i =  missclassificationFinder(resnext_50_dataframe, name=\"Resnext 50\")"
   ]
  },
  {
   "cell_type": "code",
   "execution_count": 87,
   "metadata": {},
   "outputs": [
    {
     "name": "stdout",
     "output_type": "stream",
     "text": [
      "VGG 16 has 171 classes\n"
     ]
    }
   ],
   "source": [
    "vgg16_v, vgg16_i =  missclassificationFinder(vgg_16_dataframe, name=\"VGG 16\")"
   ]
  },
  {
   "cell_type": "code",
   "execution_count": 88,
   "metadata": {},
   "outputs": [
    {
     "name": "stdout",
     "output_type": "stream",
     "text": [
      "Wide resnet has 171 classes\n"
     ]
    }
   ],
   "source": [
    "wide_v, wide_i =  missclassificationFinder(wide_resnet_dataframe, name=\"Wide resnet\")"
   ]
  },
  {
   "cell_type": "code",
   "execution_count": 89,
   "metadata": {},
   "outputs": [],
   "source": [
    "import torch"
   ]
  },
  {
   "cell_type": "code",
   "execution_count": 100,
   "metadata": {},
   "outputs": [],
   "source": [
    "def top_n_mispredicted_classes(values):\n",
    "    t_values = torch.tensor(values)\n",
    "    return torch.topk(t_values,10,largest=True,)"
   ]
  },
  {
   "cell_type": "code",
   "execution_count": 101,
   "metadata": {},
   "outputs": [
    {
     "data": {
      "text/plain": [
       "torch.return_types.topk(\n",
       "values=tensor([36, 20, 15, 13, 12, 11, 10,  9,  7,  7]),\n",
       "indices=tensor([ 73,  70, 133,  20,  17,  22, 149,  80, 113,  26]))"
      ]
     },
     "execution_count": 101,
     "metadata": {},
     "output_type": "execute_result"
    }
   ],
   "source": [
    "top_n_mispredicted_classes(r101_v)"
   ]
  },
  {
   "cell_type": "code",
   "execution_count": 102,
   "metadata": {},
   "outputs": [
    {
     "data": {
      "text/plain": [
       "torch.return_types.topk(\n",
       "values=tensor([38, 25, 15,  9,  8,  7,  5,  5,  5,  5]),\n",
       "indices=tensor([150,  70, 124,  80, 133,  20, 137,  17,  59,  33]))"
      ]
     },
     "execution_count": 102,
     "metadata": {},
     "output_type": "execute_result"
    }
   ],
   "source": [
    "top_n_mispredicted_classes(r50_v)"
   ]
  },
  {
   "cell_type": "code",
   "execution_count": 103,
   "metadata": {},
   "outputs": [
    {
     "data": {
      "text/plain": [
       "torch.return_types.topk(\n",
       "values=tensor([17, 15, 14, 12, 10,  9,  7,  7,  6,  5]),\n",
       "indices=tensor([ 70,  22,  73, 150,  17, 137, 133, 124,  33, 114]))"
      ]
     },
     "execution_count": 103,
     "metadata": {},
     "output_type": "execute_result"
    }
   ],
   "source": [
    "top_n_mispredicted_classes(rx_50_v)"
   ]
  },
  {
   "cell_type": "code",
   "execution_count": 104,
   "metadata": {},
   "outputs": [
    {
     "data": {
      "text/plain": [
       "torch.return_types.topk(\n",
       "values=tensor([17, 17, 15, 13, 13, 11, 11, 10, 10,  9]),\n",
       "indices=tensor([ 70, 150, 133,  26, 124,  80,  73, 137,  22,  17]))"
      ]
     },
     "execution_count": 104,
     "metadata": {},
     "output_type": "execute_result"
    }
   ],
   "source": [
    "top_n_mispredicted_classes(vgg16_v)"
   ]
  },
  {
   "cell_type": "code",
   "execution_count": 105,
   "metadata": {},
   "outputs": [
    {
     "data": {
      "text/plain": [
       "torch.return_types.topk(\n",
       "values=tensor([24, 15, 13, 13,  9,  9,  7,  6,  5,  4]),\n",
       "indices=tensor([ 17,  22, 137, 150,  73, 133,  80,  70,  33,  20]))"
      ]
     },
     "execution_count": 105,
     "metadata": {},
     "output_type": "execute_result"
    }
   ],
   "source": [
    "top_n_mispredicted_classes(wide_v)"
   ]
  },
  {
   "cell_type": "code",
   "execution_count": 111,
   "metadata": {},
   "outputs": [
    {
     "data": {
      "text/plain": [
       "array([ 17, 124, 150,  73,  70,  80, 114,  22,  55, 133], dtype=int64)"
      ]
     },
     "execution_count": 111,
     "metadata": {},
     "output_type": "execute_result"
    }
   ],
   "source": [
    "rx_50_i[[ 70,  22,  73, 150,  17, 137, 133, 124,  33, 114]]"
   ]
  },
  {
   "cell_type": "code",
   "execution_count": 157,
   "metadata": {},
   "outputs": [
    {
     "data": {
      "text/plain": [
       "114"
      ]
     },
     "execution_count": 157,
     "metadata": {},
     "output_type": "execute_result"
    }
   ],
   "source": [
    "rx_50_i[133]"
   ]
  },
  {
   "cell_type": "code",
   "execution_count": 115,
   "metadata": {},
   "outputs": [],
   "source": [
    "TEST_DATA = pd.read_pickle('./sync_pickles/testing_set.pkl')"
   ]
  },
  {
   "cell_type": "code",
   "execution_count": 116,
   "metadata": {},
   "outputs": [
    {
     "data": {
      "text/html": [
       "<div>\n",
       "<style scoped>\n",
       "    .dataframe tbody tr th:only-of-type {\n",
       "        vertical-align: middle;\n",
       "    }\n",
       "\n",
       "    .dataframe tbody tr th {\n",
       "        vertical-align: top;\n",
       "    }\n",
       "\n",
       "    .dataframe thead th {\n",
       "        text-align: right;\n",
       "    }\n",
       "</style>\n",
       "<table border=\"1\" class=\"dataframe\">\n",
       "  <thead>\n",
       "    <tr style=\"text-align: right;\">\n",
       "      <th></th>\n",
       "      <th>labels</th>\n",
       "      <th>images</th>\n",
       "    </tr>\n",
       "  </thead>\n",
       "  <tbody>\n",
       "    <tr>\n",
       "      <th>0</th>\n",
       "      <td>0</td>\n",
       "      <td>[[[255, 255, 255], [255, 255, 255], [255, 255,...</td>\n",
       "    </tr>\n",
       "    <tr>\n",
       "      <th>1</th>\n",
       "      <td>0</td>\n",
       "      <td>[[[255, 255, 255], [255, 255, 255], [255, 255,...</td>\n",
       "    </tr>\n",
       "    <tr>\n",
       "      <th>2</th>\n",
       "      <td>0</td>\n",
       "      <td>[[[255, 255, 255], [255, 255, 255], [255, 255,...</td>\n",
       "    </tr>\n",
       "    <tr>\n",
       "      <th>3</th>\n",
       "      <td>0</td>\n",
       "      <td>[[[255, 255, 255], [255, 255, 255], [255, 255,...</td>\n",
       "    </tr>\n",
       "    <tr>\n",
       "      <th>4</th>\n",
       "      <td>0</td>\n",
       "      <td>[[[255, 255, 255], [255, 255, 255], [255, 255,...</td>\n",
       "    </tr>\n",
       "    <tr>\n",
       "      <th>...</th>\n",
       "      <td>...</td>\n",
       "      <td>...</td>\n",
       "    </tr>\n",
       "    <tr>\n",
       "      <th>8515</th>\n",
       "      <td>170</td>\n",
       "      <td>[[[255, 255, 255], [255, 255, 255], [255, 255,...</td>\n",
       "    </tr>\n",
       "    <tr>\n",
       "      <th>8516</th>\n",
       "      <td>170</td>\n",
       "      <td>[[[255, 255, 255], [255, 255, 255], [255, 255,...</td>\n",
       "    </tr>\n",
       "    <tr>\n",
       "      <th>8517</th>\n",
       "      <td>170</td>\n",
       "      <td>[[[255, 255, 255], [255, 255, 255], [255, 255,...</td>\n",
       "    </tr>\n",
       "    <tr>\n",
       "      <th>8518</th>\n",
       "      <td>170</td>\n",
       "      <td>[[[255, 255, 255], [255, 255, 255], [255, 255,...</td>\n",
       "    </tr>\n",
       "    <tr>\n",
       "      <th>8519</th>\n",
       "      <td>170</td>\n",
       "      <td>[[[255, 255, 255], [255, 255, 255], [255, 255,...</td>\n",
       "    </tr>\n",
       "  </tbody>\n",
       "</table>\n",
       "<p>8520 rows × 2 columns</p>\n",
       "</div>"
      ],
      "text/plain": [
       "      labels                                             images\n",
       "0          0  [[[255, 255, 255], [255, 255, 255], [255, 255,...\n",
       "1          0  [[[255, 255, 255], [255, 255, 255], [255, 255,...\n",
       "2          0  [[[255, 255, 255], [255, 255, 255], [255, 255,...\n",
       "3          0  [[[255, 255, 255], [255, 255, 255], [255, 255,...\n",
       "4          0  [[[255, 255, 255], [255, 255, 255], [255, 255,...\n",
       "...      ...                                                ...\n",
       "8515     170  [[[255, 255, 255], [255, 255, 255], [255, 255,...\n",
       "8516     170  [[[255, 255, 255], [255, 255, 255], [255, 255,...\n",
       "8517     170  [[[255, 255, 255], [255, 255, 255], [255, 255,...\n",
       "8518     170  [[[255, 255, 255], [255, 255, 255], [255, 255,...\n",
       "8519     170  [[[255, 255, 255], [255, 255, 255], [255, 255,...\n",
       "\n",
       "[8520 rows x 2 columns]"
      ]
     },
     "execution_count": 116,
     "metadata": {},
     "output_type": "execute_result"
    }
   ],
   "source": [
    "TEST_DATA"
   ]
  },
  {
   "cell_type": "code",
   "execution_count": 120,
   "metadata": {},
   "outputs": [],
   "source": [
    "labels = TEST_DATA.labels"
   ]
  },
  {
   "cell_type": "code",
   "execution_count": 121,
   "metadata": {},
   "outputs": [
    {
     "data": {
      "text/plain": [
       "0         0\n",
       "1         0\n",
       "2         0\n",
       "3         0\n",
       "4         0\n",
       "       ... \n",
       "8515    170\n",
       "8516    170\n",
       "8517    170\n",
       "8518    170\n",
       "8519    170\n",
       "Name: labels, Length: 8520, dtype: int64"
      ]
     },
     "execution_count": 121,
     "metadata": {},
     "output_type": "execute_result"
    }
   ],
   "source": [
    "labels"
   ]
  },
  {
   "cell_type": "code",
   "execution_count": 122,
   "metadata": {},
   "outputs": [
    {
     "data": {
      "text/plain": [
       "pandas.core.series.Series"
      ]
     },
     "execution_count": 122,
     "metadata": {},
     "output_type": "execute_result"
    }
   ],
   "source": [
    "type(labels)"
   ]
  },
  {
   "cell_type": "code",
   "execution_count": 158,
   "metadata": {},
   "outputs": [
    {
     "data": {
      "text/plain": [
       "6653    133\n",
       "6654    133\n",
       "6655    133\n",
       "6656    133\n",
       "6657    133\n",
       "6658    133\n",
       "6659    133\n",
       "6660    133\n",
       "6661    133\n",
       "6662    133\n",
       "6663    133\n",
       "6664    133\n",
       "6665    133\n",
       "6666    133\n",
       "6667    133\n",
       "6668    133\n",
       "6669    133\n",
       "6670    133\n",
       "6671    133\n",
       "6672    133\n",
       "6673    133\n",
       "6674    133\n",
       "6675    133\n",
       "6676    133\n",
       "6677    133\n",
       "6678    133\n",
       "6679    133\n",
       "6680    133\n",
       "6681    133\n",
       "6682    133\n",
       "6683    133\n",
       "6684    133\n",
       "6685    133\n",
       "6686    133\n",
       "6687    133\n",
       "6688    133\n",
       "6689    133\n",
       "6690    133\n",
       "6691    133\n",
       "6692    133\n",
       "6693    133\n",
       "6694    133\n",
       "6695    133\n",
       "6696    133\n",
       "6697    133\n",
       "Name: labels, dtype: int64"
      ]
     },
     "execution_count": 158,
     "metadata": {},
     "output_type": "execute_result"
    }
   ],
   "source": [
    "labels[labels == 133]"
   ]
  },
  {
   "cell_type": "code",
   "execution_count": 159,
   "metadata": {},
   "outputs": [
    {
     "data": {
      "text/plain": [
       "5697    114\n",
       "5698    114\n",
       "5699    114\n",
       "5700    114\n",
       "5701    114\n",
       "5702    114\n",
       "5703    114\n",
       "5704    114\n",
       "5705    114\n",
       "5706    114\n",
       "5707    114\n",
       "5708    114\n",
       "5709    114\n",
       "5710    114\n",
       "5711    114\n",
       "5712    114\n",
       "5713    114\n",
       "5714    114\n",
       "5715    114\n",
       "5716    114\n",
       "5717    114\n",
       "5718    114\n",
       "5719    114\n",
       "5720    114\n",
       "5721    114\n",
       "5722    114\n",
       "5723    114\n",
       "5724    114\n",
       "5725    114\n",
       "5726    114\n",
       "5727    114\n",
       "5728    114\n",
       "5729    114\n",
       "5730    114\n",
       "5731    114\n",
       "5732    114\n",
       "5733    114\n",
       "5734    114\n",
       "5735    114\n",
       "5736    114\n",
       "5737    114\n",
       "5738    114\n",
       "5739    114\n",
       "5740    114\n",
       "5741    114\n",
       "5742    114\n",
       "5743    114\n",
       "Name: labels, dtype: int64"
      ]
     },
     "execution_count": 159,
     "metadata": {},
     "output_type": "execute_result"
    }
   ],
   "source": [
    "labels[labels == 114]"
   ]
  },
  {
   "cell_type": "code",
   "execution_count": 125,
   "metadata": {},
   "outputs": [],
   "source": [
    "import matplotlib.pyplot as plt"
   ]
  },
  {
   "cell_type": "code",
   "execution_count": 160,
   "metadata": {},
   "outputs": [
    {
     "data": {
      "text/plain": [
       "<matplotlib.image.AxesImage at 0x25afb3c5c10>"
      ]
     },
     "execution_count": 160,
     "metadata": {},
     "output_type": "execute_result"
    },
    {
     "data": {
      "image/png": "[encoded data removed]",
      "text/plain": [
       "<Figure size 432x288 with 1 Axes>"
      ]
     },
     "metadata": {
      "needs_background": "light"
     },
     "output_type": "display_data"
    }
   ],
   "source": [
    "plt.imshow(TEST_DATA.iloc[6653,1])"
   ]
  },
  {
   "cell_type": "code",
   "execution_count": 161,
   "metadata": {},
   "outputs": [
    {
     "data": {
      "text/plain": [
       "<matplotlib.image.AxesImage at 0x25afb426d90>"
      ]
     },
     "execution_count": 161,
     "metadata": {},
     "output_type": "execute_result"
    },
    {
     "data": {
      "image/png": "[encoded data removed]",
      "text/plain": [
       "<Figure size 432x288 with 1 Axes>"
      ]
     },
     "metadata": {
      "needs_background": "light"
     },
     "output_type": "display_data"
    }
   ],
   "source": [
    "plt.imshow(TEST_DATA.iloc[5697,1])"
   ]
  },
  {
   "cell_type": "code",
   "execution_count": null,
   "metadata": {},
   "outputs": [],
   "source": []
  }
 ],
 "metadata": {
  "kernelspec": {
   "display_name": "Python 3",
   "language": "python",
   "name": "python3"
  },
  "language_info": {
   "codemirror_mode": {
    "name": "ipython",
    "version": 3
   },
   "file_extension": ".py",
   "mimetype": "text/x-python",
   "name": "python",
   "nbconvert_exporter": "python",
   "pygments_lexer": "ipython3",
   "version": "3.8.5"
  }
 },
 "nbformat": 4,
 "nbformat_minor": 4
}
